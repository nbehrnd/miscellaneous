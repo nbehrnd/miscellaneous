{
 "cells": [
  {
   "cell_type": "markdown",
   "metadata": {},
   "source": [
    "# This Jupyter Notebook will illustrate a way to keep the stereochemistry in conformer generation.  \n",
    "* https://raw.githubusercontent.com/charnley/rmsd/master/rmsd/calculate_rmsd.py"
   ]
  },
  {
   "cell_type": "code",
   "execution_count": 1,
   "metadata": {
    "code_folding": [
     34
    ]
   },
   "outputs": [],
   "source": [
    "import copy, re \n",
    "import numpy as np \n",
    "\n",
    "# Extract element symbols and atomic coordinates from PDB string or filename\n",
    "def parse_pdb(pdb, noHydrogens=True):\n",
    "    \"\"\"\n",
    "    Reads an pdf file into lists\n",
    "    filename - name of xyz file\n",
    "    noHydrogens - if true, hydrogens are ignored; if not, hydrogens are included\n",
    "\n",
    "    Returns a tuple (a, b)\n",
    "    where a is a list of coordinate labels and b is a set of coordinates\n",
    "    (i.e) a = [\"O\", \"H\", \"H\"], b = [[x0,y0,z0],[x1,y1,z1],[x2,y2,z2]]\n",
    "    \"\"\"  \n",
    "    pdb = pdb.split('\\n') \n",
    "    if len(pdb) == 1:\n",
    "        with open(pdb[0], 'r') as fr:\n",
    "            pdb = fr.readlines()\n",
    "    labels = []\n",
    "    coords = []\n",
    "    for i in [i for i in pdb if i.find('HETATM') == 0 or i.find('ATOM') == 0 ]: \n",
    "        # ATOM      1  OXT GLY A   3       2.261  -2.612   1.127  1.00  0.00           O\n",
    "        # HETATM    1  C1  UNL     1      -7.227   0.602  -0.445  1.00  0.00           C \n",
    "        ElementSymbol = i[76:78].strip().upper()   \n",
    "        if noHydrogens and ElementSymbol == \"H\": \n",
    "            continue\n",
    "        else:\n",
    "            labels.append(ElementSymbol) \n",
    "            coords.append([i[30:38],i[38:46],i[46:54]])  \n",
    "    #print(unsorted_labels, np.array(unsorted_coords, dtype=float), NA ) \n",
    "    return np.asarray(labels), np.array(coords, dtype=float)  \n",
    "\n",
    "# Rotate the coordinates of probe molecule according to those of reference molecule     \n",
    "def kabsch_rmsd(prb, ref):\n",
    "    # Computation of the covariance matrix\n",
    "    C = np.dot(np.transpose(prb), ref)\n",
    "\n",
    "    # Computation of the optimal rotation matrix \n",
    "    V, S, W = np.linalg.svd(C) \n",
    "\n",
    "    # Ensure a right-handed coordinate system\n",
    "    if (np.linalg.det(V) * np.linalg.det(W)) < 0.0:\n",
    "        S[-1] = -S[-1]\n",
    "        V[:, -1] = -V[:, -1]\n",
    "\n",
    "    # Create Rotation matrix U\n",
    "    U = np.dot(V, W) \n",
    "    prb = np.dot(prb, U)\n",
    "    rmsd = lambda V, W: np.sqrt(sum([(v[i]-w[i])**2.0 for i in range(len(V[0])) for v, w in zip(V, W)])/len(V))\n",
    "    return rmsd(prb, ref), prb\n",
    "\n",
    "\n",
    "centroid = lambda X: X.mean(axis=0) \n",
    "\n",
    "\n",
    "def proof(ref_coord, keep_stereo):  \n",
    "    \n",
    "    AXIS_SWAPS=np.array([[0,1,2],[0,2,1],[1,0,2],[1,2,0],[2,0,1],[2,1,0]])\n",
    "    mask_swaps=          [  1   ,  -1   ,  -1   ,   1   ,   1   ,  -1  ]\n",
    "    AXIS_REFLECTIONS=np.array([[1,1,1],[-1,1,1],[1,-1,1],[1,1,-1],[-1,-1,1],[-1,1,-1],[1,-1,-1],[-1,-1,-1]])\n",
    "    mask_reflections=          [  1   ,   -1   ,   -1   ,  -1    ,     1   ,    1    ,    1    ,    -1   ]\n",
    "     \n",
    "    \n",
    "    for swap, i in zip(AXIS_SWAPS, mask_swaps):\n",
    "        for reflection, j in zip(AXIS_REFLECTIONS, mask_reflections):\n",
    "            \n",
    "            if keep_stereo and i*j == -1: continue # skip enantiomers\n",
    "                \n",
    "            # Swap, reflect, and translate the probe molecule\n",
    "            tmp_coord  = ref_coord[:, swap]\n",
    "            tmp_coord  = np.dot(tmp_coord, np.diag(reflection))\n",
    "            tmp_coord -= centroid(tmp_coord)\n",
    "\n",
    "            # Rotation\n",
    "            this_rmsd, tmp_coord  = kabsch_rmsd(tmp_coord, ref_coord) \n",
    "            print(this_rmsd) "
   ]
  },
  {
   "cell_type": "code",
   "execution_count": 2,
   "metadata": {
    "code_folding": []
   },
   "outputs": [],
   "source": [
    "#\n",
    "ref = '''REMARK   1 File created by GaussView 5.0.9\n",
    "HETATM    1  C           0      -0.084  -0.121  -2.952                       C\n",
    "HETATM    2  H           0       0.329  -1.099  -3.088                       H\n",
    "HETATM    3  H           0       0.335   0.547  -3.675                       H\n",
    "HETATM    4  H           0      -1.146  -0.162  -3.076                       H\n",
    "HETATM    5  C           0       0.248   0.383  -1.535                       C\n",
    "HETATM    6  H           0      -0.163   1.362  -1.400                       H\n",
    "HETATM    7  H           0       1.310   0.422  -1.410                       H\n",
    "HETATM    8  C           0      -0.357  -0.576  -0.494                       C\n",
    "HETATM    9  H           0       0.053  -1.555  -0.629                       H\n",
    "HETATM   10  H           0      -1.419  -0.615  -0.619                       H\n",
    "HETATM   11  C           0      -0.025  -0.072   0.923                       C\n",
    "HETATM   12  N           0      -0.589   1.273   1.109                       N\n",
    "HETATM   13  H           0      -1.548   1.197   1.383                       H\n",
    "HETATM   14  H           0      -0.077   1.754   1.821                       H\n",
    "HETATM   15  O           0       1.394  -0.021   1.090                       O\n",
    "HETATM   16  H           0       1.608  -0.064   2.025                       H\n",
    "HETATM   17  F           0      -0.556  -0.913   1.836                       F\n",
    "END ''' "
   ]
  },
  {
   "cell_type": "code",
   "execution_count": 3,
   "metadata": {},
   "outputs": [],
   "source": [
    "_, ref_coord = parse_pdb(ref)   \n",
    "ref_cent = centroid(ref_coord) \n",
    "ref_coord -= ref_cent "
   ]
  },
  {
   "cell_type": "markdown",
   "metadata": {},
   "source": [
    "## If the switch keep_stereo is on, enantiomers are skipped in conformer generation. All are identical."
   ]
  },
  {
   "cell_type": "code",
   "execution_count": 4,
   "metadata": {},
   "outputs": [
    {
     "name": "stdout",
     "output_type": "stream",
     "text": [
      "7.584160362288579e-16\n",
      "7.584160362288579e-16\n",
      "7.584160362288579e-16\n",
      "7.584160362288579e-16\n",
      "7.81551302541856e-16\n",
      "7.81551302541856e-16\n",
      "7.81551302541856e-16\n",
      "7.81551302541856e-16\n",
      "3.9278423530310745e-16\n",
      "3.9278423530310745e-16\n",
      "3.9278423530310745e-16\n",
      "3.9278423530310745e-16\n",
      "5.352132997763143e-16\n",
      "5.352132997763143e-16\n",
      "5.352132997763143e-16\n",
      "5.352132997763143e-16\n",
      "7.653001528059254e-16\n",
      "7.653001528059254e-16\n",
      "7.653001528059254e-16\n",
      "7.653001528059254e-16\n",
      "6.091071239140276e-16\n",
      "6.091071239140276e-16\n",
      "6.091071239140276e-16\n",
      "6.091071239140276e-16\n"
     ]
    }
   ],
   "source": [
    "proof(ref_coord, keep_stereo=True)"
   ]
  },
  {
   "cell_type": "markdown",
   "metadata": {},
   "source": [
    "## Half of the generated conformer are enantiomers, and RMSD shows a clear differece."
   ]
  },
  {
   "cell_type": "code",
   "execution_count": 5,
   "metadata": {},
   "outputs": [
    {
     "name": "stdout",
     "output_type": "stream",
     "text": [
      "7.584160362288579e-16\n",
      "1.2615913230754332\n",
      "1.2615913230754332\n",
      "1.2615913230754332\n",
      "7.584160362288579e-16\n",
      "7.584160362288579e-16\n",
      "7.584160362288579e-16\n",
      "1.2615913230754332\n",
      "1.261591323075433\n",
      "7.81551302541856e-16\n",
      "7.81551302541856e-16\n",
      "7.81551302541856e-16\n",
      "1.261591323075433\n",
      "1.261591323075433\n",
      "1.261591323075433\n",
      "7.81551302541856e-16\n",
      "1.261591323075433\n",
      "3.9278423530310745e-16\n",
      "3.9278423530310745e-16\n",
      "3.9278423530310745e-16\n",
      "1.261591323075433\n",
      "1.261591323075433\n",
      "1.261591323075433\n",
      "3.9278423530310745e-16\n",
      "5.352132997763143e-16\n",
      "1.2615913230754332\n",
      "1.2615913230754332\n",
      "1.2615913230754332\n",
      "5.352132997763143e-16\n",
      "5.352132997763143e-16\n",
      "5.352132997763143e-16\n",
      "1.2615913230754332\n",
      "7.653001528059254e-16\n",
      "1.261591323075433\n",
      "1.261591323075433\n",
      "1.261591323075433\n",
      "7.653001528059254e-16\n",
      "7.653001528059254e-16\n",
      "7.653001528059254e-16\n",
      "1.261591323075433\n",
      "1.261591323075433\n",
      "6.091071239140276e-16\n",
      "6.091071239140276e-16\n",
      "6.091071239140276e-16\n",
      "1.261591323075433\n",
      "1.261591323075433\n",
      "1.261591323075433\n",
      "6.091071239140276e-16\n"
     ]
    }
   ],
   "source": [
    "proof(ref_coord, keep_stereo=False)"
   ]
  }
 ],
 "metadata": {
  "kernelspec": {
   "display_name": "Python 3",
   "language": "python",
   "name": "python3"
  },
  "language_info": {
   "codemirror_mode": {
    "name": "ipython",
    "version": 3
   },
   "file_extension": ".py",
   "mimetype": "text/x-python",
   "name": "python",
   "nbconvert_exporter": "python",
   "pygments_lexer": "ipython3",
   "version": "3.6.5"
  }
 },
 "nbformat": 4,
 "nbformat_minor": 2
}
